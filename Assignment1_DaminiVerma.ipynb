{
 "cells": [
  {
   "cell_type": "code",
   "execution_count": 1,
   "metadata": {},
   "outputs": [],
   "source": [
    "#five container variables with fruits/vegetables\n",
    "carton = \"strawberries\"\n",
    "crate = \"apples\"\n",
    "box = \"grapes\"\n",
    "bowl = \"peaches\"\n",
    "basket= \"pears\""
   ]
  },
  {
   "cell_type": "code",
   "execution_count": 27,
   "metadata": {},
   "outputs": [
    {
     "name": "stdout",
     "output_type": "stream",
     "text": [
      "The carton contains strawberries\n"
     ]
    }
   ],
   "source": [
    "print \"The carton contains \" + carton"
   ]
  },
  {
   "cell_type": "code",
   "execution_count": 5,
   "metadata": {},
   "outputs": [
    {
     "name": "stdout",
     "output_type": "stream",
     "text": [
      "The crate contains apples\n"
     ]
    }
   ],
   "source": [
    "print \"The crate contains \" + crate"
   ]
  },
  {
   "cell_type": "code",
   "execution_count": 6,
   "metadata": {},
   "outputs": [
    {
     "name": "stdout",
     "output_type": "stream",
     "text": [
      "The box contains grapes\n"
     ]
    }
   ],
   "source": [
    "print \"The box contains \" + box"
   ]
  },
  {
   "cell_type": "code",
   "execution_count": 7,
   "metadata": {},
   "outputs": [
    {
     "name": "stdout",
     "output_type": "stream",
     "text": [
      "The bowl contains peaches\n"
     ]
    }
   ],
   "source": [
    "print \"The bowl contains \" + bowl "
   ]
  },
  {
   "cell_type": "code",
   "execution_count": 9,
   "metadata": {},
   "outputs": [
    {
     "name": "stdout",
     "output_type": "stream",
     "text": [
      "The basket contains pears\n"
     ]
    }
   ],
   "source": [
    "print \"The basket contains \" + basket"
   ]
  },
  {
   "cell_type": "code",
   "execution_count": 11,
   "metadata": {},
   "outputs": [],
   "source": [
    "#Task 2: storing a sentence as a variable with valid quotation marks\n",
    "\n",
    "sentence = \"Klavan said that producers have \\\"called my agent asking, 'Why would you represent this guy?' Anything that lowers your odds is going to hurt.\\\"\"\n",
    "\n"
   ]
  },
  {
   "cell_type": "code",
   "execution_count": 12,
   "metadata": {},
   "outputs": [
    {
     "name": "stdout",
     "output_type": "stream",
     "text": [
      "Klavan said that producers have \"called my agent asking, 'Why would you represent this guy?' Anything that lowers your odds is going to hurt.\"\n"
     ]
    }
   ],
   "source": [
    "print sentence"
   ]
  },
  {
   "cell_type": "code",
   "execution_count": 13,
   "metadata": {},
   "outputs": [],
   "source": [
    "#Task 3: Making a list called 'presidents' and storing 5 names in it\n",
    "\n",
    "presidents = [\"Bush\", \"Obama\" , \"Nixon\" , \"Trump\" , \"Clinton\"]"
   ]
  },
  {
   "cell_type": "code",
   "execution_count": 28,
   "metadata": {},
   "outputs": [
    {
     "name": "stdout",
     "output_type": "stream",
     "text": [
      "['Bush', 'Obama', 'Nixon', 'Trump', 'Clinton']\n"
     ]
    }
   ],
   "source": [
    "print presidents"
   ]
  },
  {
   "cell_type": "code",
   "execution_count": 16,
   "metadata": {},
   "outputs": [
    {
     "name": "stdout",
     "output_type": "stream",
     "text": [
      "Nixon\n"
     ]
    }
   ],
   "source": [
    "print presidents [2]"
   ]
  },
  {
   "cell_type": "code",
   "execution_count": 17,
   "metadata": {},
   "outputs": [],
   "source": [
    "#Task 4: Making a list called birthyears and storing the presidents' birth years in it\n",
    "\n",
    "birthyears = [1946, 1961, 1913, 1946, 1946,]"
   ]
  },
  {
   "cell_type": "code",
   "execution_count": 18,
   "metadata": {},
   "outputs": [
    {
     "name": "stdout",
     "output_type": "stream",
     "text": [
      "[1946, 1961, 1913, 1946, 1946]\n"
     ]
    }
   ],
   "source": [
    "print birthyears"
   ]
  },
  {
   "cell_type": "code",
   "execution_count": 19,
   "metadata": {},
   "outputs": [
    {
     "name": "stdout",
     "output_type": "stream",
     "text": [
      "1946\n"
     ]
    }
   ],
   "source": [
    "print birthyears[-1]"
   ]
  },
  {
   "cell_type": "code",
   "execution_count": 24,
   "metadata": {},
   "outputs": [],
   "source": [
    "#Task 5: Making a Dictionary inncluding the president name an corresponding birth year\n",
    "\n",
    "pData = {\"Bush\": 1946, \"Obama\" : 1961, \"Nixon\" : 1913 , \"Trump\" : 1946 , \"Clinton\" : 1946}"
   ]
  },
  {
   "cell_type": "code",
   "execution_count": 25,
   "metadata": {},
   "outputs": [
    {
     "name": "stdout",
     "output_type": "stream",
     "text": [
      "{'Bush': 1946, 'Nixon': 1913, 'Clinton': 1946, 'Trump': 1946, 'Obama': 1961}\n"
     ]
    }
   ],
   "source": [
    "print pData "
   ]
  }
 ],
 "metadata": {
  "kernelspec": {
   "display_name": "Python 2",
   "language": "python",
   "name": "python2"
  },
  "language_info": {
   "codemirror_mode": {
    "name": "ipython",
    "version": 2
   },
   "file_extension": ".py",
   "mimetype": "text/x-python",
   "name": "python",
   "nbconvert_exporter": "python",
   "pygments_lexer": "ipython2",
   "version": "2.7.10"
  }
 },
 "nbformat": 4,
 "nbformat_minor": 2
}
