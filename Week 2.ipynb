{
 "cells": [
  {
   "cell_type": "markdown",
   "metadata": {},
   "source": [
    "Storing strings in variables"
   ]
  },
  {
   "cell_type": "code",
   "execution_count": 1,
   "metadata": {},
   "outputs": [],
   "source": [
    "name = \"saloni\""
   ]
  },
  {
   "cell_type": "code",
   "execution_count": 2,
   "metadata": {},
   "outputs": [],
   "source": [
    "age = 22"
   ]
  },
  {
   "cell_type": "code",
   "execution_count": 3,
   "metadata": {},
   "outputs": [
    {
     "name": "stdout",
     "output_type": "stream",
     "text": [
      "saloni\n"
     ]
    }
   ],
   "source": [
    "print name"
   ]
  },
  {
   "cell_type": "code",
   "execution_count": 4,
   "metadata": {},
   "outputs": [
    {
     "name": "stdout",
     "output_type": "stream",
     "text": [
      "22\n"
     ]
    }
   ],
   "source": [
    "print age"
   ]
  },
  {
   "cell_type": "code",
   "execution_count": 5,
   "metadata": {},
   "outputs": [
    {
     "ename": "TypeError",
     "evalue": "cannot concatenate 'str' and 'int' objects",
     "output_type": "error",
     "traceback": [
      "\u001b[0;31m---------------------------------------------------------------------------\u001b[0m",
      "\u001b[0;31mTypeError\u001b[0m                                 Traceback (most recent call last)",
      "\u001b[0;32m<ipython-input-5-12bbe651be0b>\u001b[0m in \u001b[0;36m<module>\u001b[0;34m()\u001b[0m\n\u001b[0;32m----> 1\u001b[0;31m \u001b[0;32mprint\u001b[0m \u001b[0mname\u001b[0m \u001b[0;34m+\u001b[0m \u001b[0mage\u001b[0m\u001b[0;34m\u001b[0m\u001b[0m\n\u001b[0m",
      "\u001b[0;31mTypeError\u001b[0m: cannot concatenate 'str' and 'int' objects"
     ]
    }
   ],
   "source": [
    "print name + age"
   ]
  },
  {
   "cell_type": "code",
   "execution_count": 11,
   "metadata": {},
   "outputs": [
    {
     "name": "stdout",
     "output_type": "stream",
     "text": [
      "saloni22\n"
     ]
    }
   ],
   "source": [
    "print name + str(age)"
   ]
  },
  {
   "cell_type": "code",
   "execution_count": 16,
   "metadata": {},
   "outputs": [],
   "source": [
    "letter1= \"H\"\n",
    "letter2 = \"E\"\n",
    "letter3 = \"L\"\n",
    "letter4= \"L\"\n",
    "letter5 = \"O\"\n",
    "letter6= \"!\"\n",
    "letter7= 1"
   ]
  },
  {
   "cell_type": "code",
   "execution_count": 18,
   "metadata": {},
   "outputs": [
    {
     "data": {
      "text/plain": [
       "'HELLO!1'"
      ]
     },
     "execution_count": 18,
     "metadata": {},
     "output_type": "execute_result"
    }
   ],
   "source": [
    "letter1 +letter2 +letter3 + letter4 + letter5+ letter6 +str(letter7)"
   ]
  },
  {
   "cell_type": "code",
   "execution_count": 19,
   "metadata": {},
   "outputs": [],
   "source": [
    "start = letter1 +letter2 +letter3 + letter4 + letter5+ letter6"
   ]
  },
  {
   "cell_type": "code",
   "execution_count": 21,
   "metadata": {},
   "outputs": [
    {
     "name": "stdout",
     "output_type": "stream",
     "text": [
      "HELLO! world\n"
     ]
    }
   ],
   "source": [
    "print start + \" \"+\"world\""
   ]
  },
  {
   "cell_type": "code",
   "execution_count": 23,
   "metadata": {},
   "outputs": [],
   "source": [
    "gas = 2.35\n",
    "truck=14"
   ]
  },
  {
   "cell_type": "code",
   "execution_count": 24,
   "metadata": {},
   "outputs": [
    {
     "name": "stdout",
     "output_type": "stream",
     "text": [
      "14\n"
     ]
    }
   ],
   "source": [
    "print truck"
   ]
  },
  {
   "cell_type": "code",
   "execution_count": 25,
   "metadata": {},
   "outputs": [
    {
     "data": {
      "text/plain": [
       "0.6"
      ]
     },
     "execution_count": 25,
     "metadata": {},
     "output_type": "execute_result"
    }
   ],
   "source": [
    "3.0/5.0"
   ]
  },
  {
   "cell_type": "code",
   "execution_count": 26,
   "metadata": {},
   "outputs": [
    {
     "data": {
      "text/plain": [
       "0"
      ]
     },
     "execution_count": 26,
     "metadata": {},
     "output_type": "execute_result"
    }
   ],
   "source": [
    "3/5"
   ]
  },
  {
   "cell_type": "code",
   "execution_count": 2,
   "metadata": {},
   "outputs": [],
   "source": [
    "colours = [\"red\", \"blue\", \"orange\", \"pink\", \"green\",\"burgundy\", \"blanchedalmond\"]"
   ]
  },
  {
   "cell_type": "code",
   "execution_count": 4,
   "metadata": {},
   "outputs": [
    {
     "name": "stdout",
     "output_type": "stream",
     "text": [
      "[['red', 'blue', 'orange', 'pink', 'green', 'burgundy', 'blanchedalmond']]\n"
     ]
    }
   ],
   "source": [
    "print [colours]"
   ]
  },
  {
   "cell_type": "code",
   "execution_count": 30,
   "metadata": {},
   "outputs": [
    {
     "ename": "SyntaxError",
     "evalue": "invalid syntax (<ipython-input-30-5a3fcf8d00ef>, line 1)",
     "output_type": "error",
     "traceback": [
      "\u001b[0;36m  File \u001b[0;32m\"<ipython-input-30-5a3fcf8d00ef>\"\u001b[0;36m, line \u001b[0;32m1\u001b[0m\n\u001b[0;31m    cars {\"ford\":\"f150\", \"volkswagon\":\"gold\",\"audi\":\"g2\",\"smart\":\"smartfor4\"}\u001b[0m\n\u001b[0m         ^\u001b[0m\n\u001b[0;31mSyntaxError\u001b[0m\u001b[0;31m:\u001b[0m invalid syntax\n"
     ]
    }
   ],
   "source": [
    "cars {\"ford\":\"f150\", \"volkswagon\":\"gold\",\"audi\":\"g2\",\"smart\":\"smartfor4\"}"
   ]
  },
  {
   "cell_type": "code",
   "execution_count": 32,
   "metadata": {},
   "outputs": [],
   "source": [
    "cars ={\"ford\":\"f150\",\"volkswagon\":\"gold\",\"audi\":\"g2\",\"smart\":\"smartfor4\"}"
   ]
  },
  {
   "cell_type": "code",
   "execution_count": 33,
   "metadata": {},
   "outputs": [
    {
     "name": "stdout",
     "output_type": "stream",
     "text": [
      "g2\n"
     ]
    }
   ],
   "source": [
    "print cars [\"audi\"]"
   ]
  },
  {
   "cell_type": "markdown",
   "metadata": {},
   "source": [
    "loops\n"
   ]
  },
  {
   "cell_type": "code",
   "execution_count": 39,
   "metadata": {},
   "outputs": [
    {
     "name": "stdout",
     "output_type": "stream",
     "text": [
      "red\n",
      "blue\n",
      "orange\n",
      "pink\n",
      "green\n",
      "burgundy\n",
      "blanchedalmond\n"
     ]
    }
   ],
   "source": [
    "#let's loop though the colours\n",
    "for colour in colours:\n",
    "    print colour"
   ]
  },
  {
   "cell_type": "code",
   "execution_count": 40,
   "metadata": {},
   "outputs": [
    {
     "name": "stdout",
     "output_type": "stream",
     "text": [
      "blue\n",
      "orange\n",
      "pink\n",
      "green\n",
      "burgundy\n",
      "blanchedalmond\n"
     ]
    }
   ],
   "source": [
    "#let's loop though the colours\n",
    "for colour in colours[1:]:\n",
    "    print colour"
   ]
  },
  {
   "cell_type": "code",
   "execution_count": 41,
   "metadata": {},
   "outputs": [],
   "source": [
    "building = \"annenberg\""
   ]
  },
  {
   "cell_type": "code",
   "execution_count": 42,
   "metadata": {},
   "outputs": [
    {
     "data": {
      "text/plain": [
       "'a'"
      ]
     },
     "execution_count": 42,
     "metadata": {},
     "output_type": "execute_result"
    }
   ],
   "source": [
    "building[0]"
   ]
  },
  {
   "cell_type": "code",
   "execution_count": 43,
   "metadata": {},
   "outputs": [
    {
     "data": {
      "text/plain": [
       "'berg'"
      ]
     },
     "execution_count": 43,
     "metadata": {},
     "output_type": "execute_result"
    }
   ],
   "source": [
    "building[5:]"
   ]
  },
  {
   "cell_type": "code",
   "execution_count": 44,
   "metadata": {},
   "outputs": [
    {
     "data": {
      "text/plain": [
       "['red', 'blue', 'orange', 'pink']"
      ]
     },
     "execution_count": 44,
     "metadata": {},
     "output_type": "execute_result"
    }
   ],
   "source": [
    "colours[:4]"
   ]
  },
  {
   "cell_type": "code",
   "execution_count": 45,
   "metadata": {},
   "outputs": [
    {
     "name": "stdout",
     "output_type": "stream",
     "text": [
      "a\n",
      "n\n",
      "n\n",
      "e\n",
      "n\n",
      "b\n",
      "e\n",
      "r\n",
      "g\n"
     ]
    }
   ],
   "source": [
    "for letter in building:\n",
    "    print letter"
   ]
  },
  {
   "cell_type": "code",
   "execution_count": 48,
   "metadata": {},
   "outputs": [
    {
     "name": "stdout",
     "output_type": "stream",
     "text": [
      "red\n",
      "blue\n",
      "orange\n",
      "pink\n",
      "green\n",
      "burgundy\n"
     ]
    }
   ],
   "source": [
    "#loop through colours and print everything that's not blanched almond \n",
    "for colour in colours:\n",
    "    if colour is not \"blanchedalmond\":\n",
    "        print colour"
   ]
  },
  {
   "cell_type": "code",
   "execution_count": 50,
   "metadata": {},
   "outputs": [
    {
     "data": {
      "text/plain": [
       "8"
      ]
     },
     "execution_count": 50,
     "metadata": {},
     "output_type": "execute_result"
    }
   ],
   "source": [
    "#addition\n",
    "5+3"
   ]
  },
  {
   "cell_type": "code",
   "execution_count": 52,
   "metadata": {},
   "outputs": [
    {
     "data": {
      "text/plain": [
       "2"
      ]
     },
     "execution_count": 52,
     "metadata": {},
     "output_type": "execute_result"
    }
   ],
   "source": [
    "#subtraction\n",
    "4-2"
   ]
  },
  {
   "cell_type": "code",
   "execution_count": 54,
   "metadata": {},
   "outputs": [
    {
     "data": {
      "text/plain": [
       "2"
      ]
     },
     "execution_count": 54,
     "metadata": {},
     "output_type": "execute_result"
    }
   ],
   "source": [
    "#division or put 5.0/2.0\n",
    "5/2"
   ]
  },
  {
   "cell_type": "code",
   "execution_count": 55,
   "metadata": {},
   "outputs": [
    {
     "data": {
      "text/plain": [
       "10"
      ]
     },
     "execution_count": 55,
     "metadata": {},
     "output_type": "execute_result"
    }
   ],
   "source": [
    "#multiplication\n",
    "5 *2\n"
   ]
  },
  {
   "cell_type": "code",
   "execution_count": 57,
   "metadata": {},
   "outputs": [
    {
     "data": {
      "text/plain": [
       "1"
      ]
     },
     "execution_count": 57,
     "metadata": {},
     "output_type": "execute_result"
    }
   ],
   "source": [
    "#modulo\n",
    "5 % 2"
   ]
  },
  {
   "cell_type": "code",
   "execution_count": 58,
   "metadata": {},
   "outputs": [
    {
     "data": {
      "text/plain": [
       "False"
      ]
     },
     "execution_count": 58,
     "metadata": {},
     "output_type": "execute_result"
    }
   ],
   "source": [
    "8 > 10\n"
   ]
  },
  {
   "cell_type": "code",
   "execution_count": 59,
   "metadata": {},
   "outputs": [
    {
     "data": {
      "text/plain": [
       "True"
      ]
     },
     "execution_count": 59,
     "metadata": {},
     "output_type": "execute_result"
    }
   ],
   "source": [
    "truck >= 14"
   ]
  },
  {
   "cell_type": "code",
   "execution_count": 60,
   "metadata": {},
   "outputs": [],
   "source": [
    "arkgas = gas"
   ]
  },
  {
   "cell_type": "code",
   "execution_count": 61,
   "metadata": {},
   "outputs": [],
   "source": [
    "calgas = 4.00"
   ]
  },
  {
   "cell_type": "code",
   "execution_count": 62,
   "metadata": {},
   "outputs": [
    {
     "data": {
      "text/plain": [
       "False"
      ]
     },
     "execution_count": 62,
     "metadata": {},
     "output_type": "execute_result"
    }
   ],
   "source": [
    "calgas< arkgas"
   ]
  },
  {
   "cell_type": "code",
   "execution_count": 63,
   "metadata": {},
   "outputs": [
    {
     "name": "stdout",
     "output_type": "stream",
     "text": [
      "2.35\n"
     ]
    }
   ],
   "source": [
    "print gas"
   ]
  },
  {
   "cell_type": "code",
   "execution_count": 64,
   "metadata": {},
   "outputs": [],
   "source": [
    "sentence = \"saloni said, 'hello'\""
   ]
  },
  {
   "cell_type": "code",
   "execution_count": 65,
   "metadata": {},
   "outputs": [
    {
     "name": "stdout",
     "output_type": "stream",
     "text": [
      "saloni said, 'hello'\n"
     ]
    }
   ],
   "source": [
    "print sentence\n"
   ]
  },
  {
   "cell_type": "code",
   "execution_count": 68,
   "metadata": {},
   "outputs": [],
   "source": [
    "sentence = \"saloni said, \\\"hello.\\\"\""
   ]
  },
  {
   "cell_type": "code",
   "execution_count": 69,
   "metadata": {},
   "outputs": [
    {
     "name": "stdout",
     "output_type": "stream",
     "text": [
      "saloni said, \"hello.\"\n"
     ]
    }
   ],
   "source": [
    "print sentence"
   ]
  },
  {
   "cell_type": "code",
   "execution_count": 70,
   "metadata": {},
   "outputs": [],
   "source": [
    "sentence3 = \"Jon said, \\\"Danielle said, 'can we do single quotes'\\\"\""
   ]
  },
  {
   "cell_type": "code",
   "execution_count": 71,
   "metadata": {},
   "outputs": [
    {
     "name": "stdout",
     "output_type": "stream",
     "text": [
      "Jon said, \"Danielle said, 'can we do single quotes'\"\n"
     ]
    }
   ],
   "source": [
    "print sentence3\n"
   ]
  },
  {
   "cell_type": "code",
   "execution_count": 74,
   "metadata": {},
   "outputs": [],
   "source": [
    "sentence4 = \"\"\"\n",
    "ayy\n",
    "bee\n",
    "see\n",
    "dee\n",
    "\"\"\""
   ]
  },
  {
   "cell_type": "code",
   "execution_count": 75,
   "metadata": {},
   "outputs": [
    {
     "name": "stdout",
     "output_type": "stream",
     "text": [
      "\n",
      "ayy\n",
      "bee\n",
      "see\n",
      "dee\n",
      "\n"
     ]
    }
   ],
   "source": [
    "print sentence4\n"
   ]
  },
  {
   "cell_type": "code",
   "execution_count": 78,
   "metadata": {},
   "outputs": [],
   "source": [
    "#create text file\n",
    "f = open(\"week2test.txt\", \"w\")"
   ]
  },
  {
   "cell_type": "code",
   "execution_count": 79,
   "metadata": {},
   "outputs": [],
   "source": [
    "#write a sentence to the file \n",
    "f.write(sentence4)"
   ]
  },
  {
   "cell_type": "code",
   "execution_count": 80,
   "metadata": {},
   "outputs": [],
   "source": [
    "f.close()"
   ]
  },
  {
   "cell_type": "code",
   "execution_count": 81,
   "metadata": {},
   "outputs": [],
   "source": [
    "#open file for reading\n",
    "f = open(\"week2test.txt\", \"r\")"
   ]
  },
  {
   "cell_type": "code",
   "execution_count": 83,
   "metadata": {},
   "outputs": [
    {
     "data": {
      "text/plain": [
       "'\\nayy\\nbee\\nsee\\ndee\\n'"
      ]
     },
     "execution_count": 83,
     "metadata": {},
     "output_type": "execute_result"
    }
   ],
   "source": [
    "f.read()"
   ]
  },
  {
   "cell_type": "code",
   "execution_count": 94,
   "metadata": {},
   "outputs": [],
   "source": [
    "f = open(\"week2test.txt\",\"a\")"
   ]
  },
  {
   "cell_type": "code",
   "execution_count": 95,
   "metadata": {},
   "outputs": [],
   "source": [
    "f.write(\"eeeee\")"
   ]
  },
  {
   "cell_type": "code",
   "execution_count": 87,
   "metadata": {},
   "outputs": [],
   "source": [
    "f.close()"
   ]
  },
  {
   "cell_type": "code",
   "execution_count": 90,
   "metadata": {},
   "outputs": [],
   "source": [
    "fruits = \"\"\"\n",
    "red\n",
    "\\t*strawberry\n",
    "\\t*cherry\n",
    "\\t*apple\n",
    "\\t*raspberry\n",
    "\"\"\""
   ]
  },
  {
   "cell_type": "code",
   "execution_count": 91,
   "metadata": {},
   "outputs": [
    {
     "name": "stdout",
     "output_type": "stream",
     "text": [
      "\n",
      "red\n",
      "\t*strawberry\n",
      "\t*cherry\n",
      "\t*apple\n",
      "\t*raspberry\n",
      "\n"
     ]
    }
   ],
   "source": [
    "print fruits"
   ]
  },
  {
   "cell_type": "code",
   "execution_count": 96,
   "metadata": {},
   "outputs": [],
   "source": [
    "import csv\n"
   ]
  },
  {
   "cell_type": "code",
   "execution_count": 101,
   "metadata": {},
   "outputs": [
    {
     "name": "stdout",
     "output_type": "stream",
     "text": [
      "['5525-030-023', '19811026-50', 'other', 'N', 'UNIVERSITY OF SOUTHERN CA', '', '', '', '457', '', 'N', 'ORANGE DR', '', 'LOS ANGELES CA', '90036-2611', '', '', '', '', '', '', '']\n"
     ]
    }
   ],
   "source": [
    "#open up the usc property file\n",
    "f = open (\"usc.txt\", \"a\")\n",
    "\n",
    "#open the assesor file\n",
    "with open (\"assessor.csv\", \"r\") as csvfile:\n",
    "    #run the file through the csv reader\n",
    "    assessor= csv.reader(csvfile)\n",
    "    #loop through each row\n",
    "    for row in assessor:\n",
    "        #check if this assesor id number is in row\n",
    "        if \"5525-030-023\" in row:\n",
    "            print row\n",
    "        "
   ]
  },
  {
   "cell_type": "code",
   "execution_count": 106,
   "metadata": {},
   "outputs": [
    {
     "name": "stdout",
     "output_type": "stream",
     "text": [
      "['7480-004-007', '19781229-50', 'other', 'Y', 'UNIVERSITY OF SO CALIF', '', '', 'DEE JACKSON', '207', '', '', 'WRIGLEY RD E TE', '', 'AVALON CA', '90704', '620', '', '', 'MC CARTHY WAY', 'STE 5', 'LOS ANGELES CA', '90089-0155']\n",
      "['7480-040-026', '19720207-50', 'other', 'Y', 'UNIVERSITY OF SO CALIF', '', '', 'DEE JACKSON', '0', '', '', 'BIG FISHERMANS COVE UNIVERSITY', '', 'AVALON CA', '90704', '620', '', '', 'MC CARTHY WAY', 'STE 5', 'LOS ANGELES CA', '90089-0155']\n",
      "['5525-030-023', '19811026-50', 'other', 'N', 'UNIVERSITY OF SOUTHERN CA', '', '', '', '457', '', 'N', 'ORANGE DR', '', 'LOS ANGELES CA', '90036-2611', '', '', '', '', '', '', '']\n",
      "['5525-032-017', '19811026-50', 'other', 'N', 'UNIVERSITY OF SOUTHERN CA', '', '', '', '321', '', 'N', 'SYCAMORE AVE', '', 'LOS ANGELES CA', '90036-2685', '0', '', '', 'UNIVERSITY PARK MC-0588', '', 'LOS ANGELES CA', '90089']\n",
      "['5039-002-029', '19711210-50', 'other', 'Y', 'UNIVERSITY OF SO CALIF', '', '', 'DEE JACKSON', '1012', '', 'W', '36TH ST', '', 'LOS ANGELES CA', '90007-5603', '620', '', '', 'MC CARTHY WAY', 'STE 5', 'LOS ANGELES CA', '90089-0155']\n",
      "['5039-002-030', '19711210-50', 'other', 'Y', 'UNIVERSITY OF SO CALIF', '', '', 'DEE JACKSON', '1046', '', 'W', '36TH ST', '', 'LOS ANGELES CA', '90007-5603', '620', '', '', 'MC CARTHY WAY', 'STE 5', 'LOS ANGELES CA', '90089-0155']\n",
      "['5039-002-031', '19711210-50', 'other', 'Y', 'UNIVERSITY OF SO CALIF', '', '', 'DEE JACKSON', '1027', '', 'W', '34TH ST', '', 'LOS ANGELES CA', '90089-0001', '620', '', '', 'MC CARTHY WAY', 'STE 5', 'LOS ANGELES CA', '90089-0155']\n",
      "['5039-002-032', '19711210-50', 'other', 'Y', 'UNIVERSITY OF SO CALIF', '', '', 'DEE JACKSON', '1015', '', 'W', '34TH ST', '', 'LOS ANGELES CA', '90007-3508', '620', '', '', 'MC CARTHY WAY', 'STE 5', 'LOS ANGELES CA', '90089-0155']\n",
      "['5039-002-033', '19820513-50', 'other', 'Y', 'UNIVERSITY OF SO CALIF', '', '', 'DEE JACKSON', '0', '', '', '', '', '', '', '620', '', '', 'MC CARTHY WAY', 'STE 5', 'LOS ANGELES CA', '90089-0155']\n",
      "['5039-002-034', '19711210-50', 'other', 'Y', 'UNIVERSITY OF SO CALIF', '', '', 'DEE JACKSON', '3667', '', '', 'MCCLINTOCK AVE', '', 'LOS ANGELES CA', '90089-0084', '620', '', '', 'MC CARTHY WAY', 'STE 5', 'LOS ANGELES CA', '90089-0155']\n",
      "['5039-003-027', '19711210-50', 'other', 'Y', 'UNIVERSITY OF SO CALIF', '', '', 'DEE JACKSON', '925', '', 'W', '34TH ST', '', 'LOS ANGELES CA', '90089-0058', '620', '', '', 'MC CARTHY WAY', 'STE 5', 'LOS ANGELES CA', '90089-0155']\n",
      "['5039-003-029', '19711210-50', 'other', 'Y', 'UNIVERSITY OF SO CALIF', '', '', 'DEE JACKSON', '0', '', '', '', '', '', '', '620', '', '', 'MC CARTHY WAY', 'STE 5', 'LOS ANGELES CA', '90089-0155']\n",
      "['5039-003-030', '19820513-50', 'other', 'Y', 'UNIVERSITY OF SO CALIF', '', '', 'DEE JACKSON', '0', '', '', '', '', '', '', '620', '', '', 'MC CARTHY WAY', 'STE 5', 'LOS ANGELES CA', '90089-0155']\n",
      "['5039-012-027', '19640000-50', 'other', 'Y', 'UNIVERSITY OF SO CALIF', '', '', 'DEE JACKSON', '920', '', 'W', '37TH ST', '', 'LOS ANGELES CA', '90089-0061', '620', '', 'W', 'MC CARTHY WAY', 'STE 5', 'LOS ANGELES CA', '90089']\n",
      "['5039-012-029', '19600113-50', 'other', 'Y', 'UNIVERSITY OF SO CALIF', '', '', 'DEE JACKSON', '3564', '', '', 'MCCLINTOCK AVE', '', 'LOS ANGELES CA', '90007-4032', '620', '', 'W', 'MC CARTHY WAY', 'STE 5', 'LOS ANGELES CA', '90089']\n",
      "['5039-012-030', '19650000-50', 'other', 'Y', 'UNIVERSITY OF SO CALIF', '', '', 'DEE JACKSON', '900', '', 'W', '35TH ST', '', 'LOS ANGELES CA', '90007-4001', '620', '', 'W', 'MC CARTHY WAY', 'STE 5', 'LOS ANGELES CA', '90089']\n",
      "['5039-012-031', '19650000-50', 'other', 'Y', 'UNIVERSITY OF SO CALIF', '', '', 'DEE JACKSON', '0', '', '', '', '', '', '', '620', '', 'W', 'MC CARTHY WAY', 'STE 5', 'LOS ANGELES CA', '90089']\n",
      "['5039-012-033', '19640000-50', 'other', 'Y', 'UNIVERSITY OF SO CALIF', '', '', 'DEE JACKSON', '3730', '', '', 'MCCLINTOCK AVE', '', 'LOS ANGELES CA', '90007-4012', '620', '', 'W', 'MC CARTHY WAY', 'STE 5', 'LOS ANGELES CA', '90089']\n",
      "['5039-019-051', '19760818-50', 'other', 'Y', 'UNIVERSITY OF SO CALIF', '', '', 'DEE JACKSON', '3131', '', '', 'MCCLINTOCK AVE', '', 'LOS ANGELES CA', '90007-3560', '620', '', '', 'MC CARTHY WAY', 'STE 5', 'LOS ANGELES CA', '90089-0155']\n",
      "['5039-024-016', '19831116-50', 'other', 'Y', 'UNIVERSITY OF SO CALIF', '', '', 'DEE JACKSON', '3441', '', '', 'UNIVERSITY AVE', '', 'LOS ANGELES CA', '90007-3504', '620', '', '', 'MC CARTHY WAY', 'STE 5', 'LOS ANGELES CA', '90089-0155']\n",
      "['5055-012-019', '19790522-50', 'other', 'Y', 'UNIVERSITY OF SO CALIF', '', '', 'DEE JACKSON', '1275', '', 'W', '29TH ST', '', 'LOS ANGELES CA', '90007-3180', '620', '', '', 'MC CARTHY WAY', 'STE 5', 'LOS ANGELES CA', '90089-0155']\n",
      "['5055-027-022', '19860611-50', '', 'Y', 'UNIVERSITY OF SOUTHERN CA', '', '', 'DEE JACKSON', '1149', '', 'E', '28TH ST', '', 'LOS ANGELES CA', '90011-2159', '620', '', '', 'MC CARTHY WAY', 'STE 5', 'LOS ANGELES CA', '90089-0155']\n",
      "['5055-029-020', '19860114-50', '', 'Y', 'UNIVERSITY OF SOUTHERN CA', '', '', 'DEE JACKSON', '1138', '', 'W', '29TH ST', '', 'LOS ANGELES CA', '90007-3115', '620', '', '', 'MC CARTHY WAY', 'STE 5', 'LOS ANGELES CA', '90089-0155']\n",
      "['5055-029-021', '19860114-50', '', 'Y', 'UNIVERSITY OF SOUTHERN CA', '', '', 'DEE JACKSON', '1124', '', 'W', '29TH ST', '', 'LOS ANGELES CA', '90007-3114', '620', '', '', 'MC CARTHY WAY', 'STE 5', 'LOS ANGELES CA', '90089-0155']\n",
      "['5122-022-002', '19890418-50', 'other', 'Y', 'UNIVERSITY OF SOUTHERN CA', '', '', 'DEE JACKSON', '3500', '', 'S', 'HOPE ST', '', 'LOS ANGELES CA', '90007-4342', '620', '', '', 'MC CARTHY WAY', 'STE 5', 'LOS ANGELES CA', '90089-0155']\n",
      "['5122-025-006', '19640929-50', 'other', 'Y', 'UNIVERSITY OF SO CALIF', '', '', 'DEE JACKSON', '3711', '', 'S', 'GRAND AVE', '', 'LOS ANGELES CA', '90007-4332', '620', '', '', 'MC CARTHY WAY', 'STE 5', 'LOS ANGELES CA', '90089-0155']\n",
      "['5122-025-010', '19640929-50', 'other', 'Y', 'UNIVERSITY OF SO CALIF', '', '', 'DEE JACKSON', '3706', '', 'S', 'HOPE ST', '', 'LOS ANGELES CA', '90007-4344', '620', '', '', 'MC CARTHY WAY', 'STE 5', 'LOS ANGELES CA', '90089-0155']\n",
      "['5122-025-012', '19640929-50', 'other', 'Y', 'UNIVERSITY OF SO CALIF', '', '', 'DEE JACKSON', '3714', '', 'S', 'HOPE ST', '', 'LOS ANGELES CA', '90007-4344', '620', '', '', 'MC CARTHY WAY', 'STE 5', 'LOS ANGELES CA', '90089-0155']\n",
      "['5122-025-013', '19640929-50', 'other', 'Y', 'UNIVERSITY OF SO CALIF', '', '', 'DEE JACKSON', '3718', '', 'S', 'HOPE ST', '', 'LOS ANGELES CA', '90007-4344', '620', '', '', 'MC CARTHY WAY', 'STE 5', 'LOS ANGELES CA', '90089-0155']\n",
      "['5123-004-403', '19641112-50', 'other', 'Y', 'UNIVERSITY OF SO CALIF', '', '', 'DEE JACKSON', '914', '', 'W', '28TH ST', '', 'LOS ANGELES CA', '90007-2434', '620', '', '', 'MC CARTHY WAY', 'STE 5', 'LOS ANGELES CA', '90089-0155']\n",
      "['5123-004-411', '19830110-50', 'other', 'Y', 'UNIVERSITY OF SO CALIF', '', '', 'DEE JACKSON', '921', '', 'W', '30TH ST', '', 'LOS ANGELES CA', '90007-2402', '620', '', '', 'MC CARTHY WAY', 'STE 5', 'LOS ANGELES CA', '90089-0155']\n",
      "['5123-004-433', '19921026-50', '', 'Y', 'UNIVERSITY OF SOUTHERN CA', '', '', 'DEE JACKSON', '3375', '', 'S', 'HOOVER ST', '115', 'LOS ANGELES CA', '90089-0116', '620', '', '', 'MC CARTHY WAY', 'STE 5', 'LOS ANGELES CA', '90089-0155']\n",
      "['5123-023-024', '19700526-50', 'other', 'Y', 'UNIVERSITY OF SO CALIF', '', '', '', '663', '', 'W', '34TH ST', '', 'LOS ANGELES CA', '90089-0067', '830', '', '', 'CHILDS WAY', 'STE 5', 'LOS ANGELES CA', '90089-0277']\n",
      "['5123-023-025', '19820513-50', 'other', 'Y', 'UNIVERSITY OF SO CALIF', '', '', 'C/O DEE JACKSON', '0', '', '', '', '', '', '', '620', '', 'W', 'MC CARTHY WAY', 'STE 5', 'LOS ANGELES CA', '90089-0155']\n",
      "['5124-011-016', '19780629-50', 'other', 'Y', 'UNIVERSITY OF SO CALIF', '', '', '', '2390', '', '', 'PORTLAND ST', '', 'LOS ANGELES CA', '90007-1958', '620', '', '', 'MC CARTHY WAY', 'STE 5', 'LOS ANGELES CA', '90089-0155']\n",
      "['5139-029-027', '20101105-50', '', 'Y', 'UNIVERSITY OF SOUTHERN CA', '', '', '', '1155', '', 'S', 'GRAND AVE', 'NO  1410', 'LOS ANGELES CA', '90015-2272', '620', '', 'W', 'MC CARTHY WAY', 'STE 5', 'LOS ANGELES CA', '90089']\n",
      "['2331-032-199', '20080212-50', 'nonReapp', 'Y', 'UNIVERSITY OF SOUTHERN CA', '', '', 'DEE JACKSON', '13032', '', '', 'VICTORY BLVD', '', 'LOS ANGELES CA', '91606-2926', '620', '', '', 'MC CARTHY WAY', 'STE 5', 'LOS ANGELES CA', '90089-0155']\n"
     ]
    }
   ],
   "source": [
    "#open the assesor file\n",
    "with open (\"assessor.csv\", \"r\") as csvfile:\n",
    "    #run the file through the csv reader\n",
    "    assessor= csv.reader(csvfile)\n",
    "    #loop through each row\n",
    "    for row in assessor:\n",
    "        #check if this assesor id number is in row\n",
    "        if \"UNIVERSITY OF SOUTHERN CA\" in row or \"UNIVERSITY OF SO CALIF\" in row:\n",
    "            print row\n",
    "        "
   ]
  },
  {
   "cell_type": "code",
   "execution_count": 116,
   "metadata": {},
   "outputs": [
    {
     "name": "stdout",
     "output_type": "stream",
     "text": [
      "7480-004-007\n",
      "7480-040-026\n",
      "5525-030-023\n",
      "5525-032-017\n",
      "5039-002-029\n",
      "5039-002-030\n",
      "5039-002-031\n",
      "5039-002-032\n",
      "5039-002-033\n",
      "5039-002-034\n",
      "5039-003-027\n",
      "5039-003-029\n",
      "5039-003-030\n",
      "5039-012-027\n",
      "5039-012-029\n",
      "5039-012-030\n",
      "5039-012-031\n",
      "5039-012-033\n",
      "5039-019-051\n",
      "5039-024-016\n",
      "5055-012-019\n",
      "5055-027-022\n",
      "5055-029-020\n",
      "5055-029-021\n",
      "5122-022-002\n",
      "5122-025-006\n",
      "5122-025-010\n",
      "5122-025-012\n",
      "5122-025-013\n",
      "5123-004-403\n",
      "5123-004-411\n",
      "5123-004-433\n",
      "5123-023-024\n",
      "5123-023-025\n",
      "5124-011-016\n",
      "5139-029-027\n",
      "2331-032-199\n"
     ]
    }
   ],
   "source": [
    "#open up the usc property file\n",
    "f = open (\"usc.txt\", \"a\")\n",
    "\n",
    "#write header row\n",
    "f.write (\"<p><strong>ain</strong></p>\\n\")\n",
    "\n",
    "#open the assesor file\n",
    "with open (\"assessor.csv\", \"r\") as csvfile:\n",
    "    #run the file through the csv reader\n",
    "    assessor= csv.reader(csvfile)\n",
    "    #loop through each row\n",
    "    for row in assessor:\n",
    "        if  \"UNIVERSITY OF SOUTHERN CA\" in row or \"UNIVERSITY OF SO CALIF\" in row:\n",
    "        #check if this assesor id number is in row\n",
    "            print row[0]\n",
    "f.write(\"<p>\" + row[0] + '</p>\\n')\n",
    "            \n",
    "#close the file\n",
    "f.close()\n",
    "            "
   ]
  },
  {
   "cell_type": "code",
   "execution_count": 11,
   "metadata": {},
   "outputs": [],
   "source": [
    "#define a new function \n",
    "def ladycat(time):\n",
    "    if time is 'night':\n",
    "        print \"SCREAM\"\n",
    "    elif time is 'day':\n",
    "        print \"purr\"\n",
    "    else: \n",
    "        print \"ZZZ\""
   ]
  },
  {
   "cell_type": "code",
   "execution_count": 4,
   "metadata": {},
   "outputs": [
    {
     "name": "stdout",
     "output_type": "stream",
     "text": [
      "SCREAM\n"
     ]
    }
   ],
   "source": [
    "ladycat('night')"
   ]
  },
  {
   "cell_type": "code",
   "execution_count": 5,
   "metadata": {},
   "outputs": [
    {
     "name": "stdout",
     "output_type": "stream",
     "text": [
      "SCREAM\n"
     ]
    }
   ],
   "source": [
    "ladycat('night')"
   ]
  },
  {
   "cell_type": "code",
   "execution_count": 12,
   "metadata": {},
   "outputs": [
    {
     "name": "stdout",
     "output_type": "stream",
     "text": [
      "ZZZ\n"
     ]
    }
   ],
   "source": [
    "ladycat('april')"
   ]
  },
  {
   "cell_type": "code",
   "execution_count": null,
   "metadata": {},
   "outputs": [],
   "source": []
  }
 ],
 "metadata": {
  "kernelspec": {
   "display_name": "Python 2",
   "language": "python",
   "name": "python2"
  },
  "language_info": {
   "codemirror_mode": {
    "name": "ipython",
    "version": 2
   },
   "file_extension": ".py",
   "mimetype": "text/x-python",
   "name": "python",
   "nbconvert_exporter": "python",
   "pygments_lexer": "ipython2",
   "version": "2.7.10"
  }
 },
 "nbformat": 4,
 "nbformat_minor": 2
}
